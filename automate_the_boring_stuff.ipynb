{
  "nbformat": 4,
  "nbformat_minor": 0,
  "metadata": {
    "colab": {
      "provenance": [],
      "collapsed_sections": [],
      "authorship_tag": "ABX9TyOkDktz6JmqshXKsTHwVhaI",
      "include_colab_link": true
    },
    "kernelspec": {
      "name": "python3",
      "display_name": "Python 3"
    },
    "language_info": {
      "name": "python"
    }
  },
  "cells": [
    {
      "cell_type": "markdown",
      "metadata": {
        "id": "view-in-github",
        "colab_type": "text"
      },
      "source": [
        "<a href=\"https://colab.research.google.com/github/jusbetwin/automate_the_boring_stuff/blob/main/automate_the_boring_stuff.ipynb\" target=\"_parent\"><img src=\"https://colab.research.google.com/assets/colab-badge.svg\" alt=\"Open In Colab\"/></a>"
      ]
    },
    {
      "cell_type": "code",
      "source": [
        "### Chapter 3: Practice Functions\n",
        "\n",
        "def collatz(number):\n",
        "  while number != 1:\n",
        "    print(number)\n",
        "    if number % 2 == 0:\n",
        "      number = number // 2\n",
        "    else:\n",
        "      number = (3 * number) + 1\n",
        "  print(1)\n",
        "\n",
        "collatz(27)"
      ],
      "metadata": {
        "id": "K-8KhFmP5OOI"
      },
      "execution_count": null,
      "outputs": []
    },
    {
      "cell_type": "code",
      "execution_count": null,
      "metadata": {
        "id": "whhwmEMT4c_o"
      },
      "outputs": [],
      "source": []
    }
  ]
}